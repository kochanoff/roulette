{
 "cells": [
  {
   "cell_type": "markdown",
   "metadata": {},
   "source": [
    "Это небольшое приложение к моему посту на kochanoff.com про игру в рулетку - простенький код, таблички и графики"
   ]
  },
  {
   "cell_type": "code",
   "execution_count": 355,
   "metadata": {},
   "outputs": [],
   "source": [
    "import numpy as np\n",
    "import pandas as pd\n",
    "import matplotlib.pyplot as plt\n",
    "import seaborn as sns\n",
    "%matplotlib inline"
   ]
  },
  {
   "cell_type": "markdown",
   "metadata": {},
   "source": [
    "Напишем функцию, которая считает вероятность k успехов в n испытаниях при p вероятности успеха в 1 испытании"
   ]
  },
  {
   "cell_type": "code",
   "execution_count": 20,
   "metadata": {},
   "outputs": [],
   "source": [
    "def bernulli(p,k,n):\n",
    "    q = 1 - p\n",
    "    return (np.math.factorial(n)/(np.math.factorial(k)*np.math.factorial((n - k)))) * p**k * q**(n-k)"
   ]
  },
  {
   "cell_type": "markdown",
   "metadata": {},
   "source": [
    "проверим её в деле и получим вероятность ровно 1 выигрыша в рулетку в 100 играх..."
   ]
  },
  {
   "cell_type": "code",
   "execution_count": 22,
   "metadata": {},
   "outputs": [
    {
     "data": {
      "text/plain": [
       "0.17938047482178854"
      ]
     },
     "execution_count": 22,
     "metadata": {},
     "output_type": "execute_result"
    }
   ],
   "source": [
    "bernulli(1/37,1,100)"
   ]
  },
  {
   "cell_type": "markdown",
   "metadata": {},
   "source": [
    "...в 37 играх. Смотрите, тут она выше! Оно и понятно, если играем 100 раз, то более веротяно уже получить хотя бы 2-3 выигрыша, а не один единственный "
   ]
  },
  {
   "cell_type": "code",
   "execution_count": 135,
   "metadata": {},
   "outputs": [
    {
     "data": {
      "text/plain": [
       "0.37293054960162375"
      ]
     },
     "execution_count": 135,
     "metadata": {},
     "output_type": "execute_result"
    }
   ],
   "source": [
    "bernulli(1/37,1,37)"
   ]
  },
  {
   "cell_type": "markdown",
   "metadata": {},
   "source": [
    "теперь напишем функцию, которая посчитает нам вероятность ХОТЯ БЫ k выигрышей в n исптыаниях. Для этого нам понадобится сложить вероятность k, k+1, k+2 и так далее, до n успехов в n испытаниях"
   ]
  },
  {
   "cell_type": "code",
   "execution_count": 334,
   "metadata": {},
   "outputs": [],
   "source": [
    "def bernulli_at_least_k(p,k,n):\n",
    "    sum = 0\n",
    "    for _ in range(k,n+1):\n",
    "        sum += bernulli(p,_,n)\n",
    "    return(sum)"
   ]
  },
  {
   "cell_type": "markdown",
   "metadata": {},
   "source": [
    "Вероятность хотя бы одного успеха в рулетке в 37 играх"
   ]
  },
  {
   "cell_type": "code",
   "execution_count": 336,
   "metadata": {},
   "outputs": [
    {
     "data": {
      "text/plain": [
       "0.6371486544416651"
      ]
     },
     "execution_count": 336,
     "metadata": {},
     "output_type": "execute_result"
    }
   ],
   "source": [
    "bernulli_at_least_k(1/37,1,37)"
   ]
  },
  {
   "cell_type": "markdown",
   "metadata": {},
   "source": [
    "Мы хотим получить значение функции bernulli_at_least_k для значений от 1 до 200. Сделаю это через простенькую функцию-декторатор, в которую будем передваь разные значения игр"
   ]
  },
  {
   "cell_type": "code",
   "execution_count": 53,
   "metadata": {},
   "outputs": [],
   "source": [
    "def decorator_bernulli_at_least_k(x):\n",
    "    return bernulli_at_least_k(1/37,1,x)"
   ]
  },
  {
   "cell_type": "markdown",
   "metadata": {},
   "source": [
    "Заданим массив от 0 до 199, с 0, потому что он нам понадобится позже"
   ]
  },
  {
   "cell_type": "code",
   "execution_count": 341,
   "metadata": {},
   "outputs": [],
   "source": [
    "x = np.arange(0,200)"
   ]
  },
  {
   "cell_type": "code",
   "execution_count": 342,
   "metadata": {},
   "outputs": [
    {
     "data": {
      "text/plain": [
       "array([  0,   1,   2,   3,   4,   5,   6,   7,   8,   9,  10,  11,  12,\n",
       "        13,  14,  15,  16,  17,  18,  19,  20,  21,  22,  23,  24,  25,\n",
       "        26,  27,  28,  29,  30,  31,  32,  33,  34,  35,  36,  37,  38,\n",
       "        39,  40,  41,  42,  43,  44,  45,  46,  47,  48,  49,  50,  51,\n",
       "        52,  53,  54,  55,  56,  57,  58,  59,  60,  61,  62,  63,  64,\n",
       "        65,  66,  67,  68,  69,  70,  71,  72,  73,  74,  75,  76,  77,\n",
       "        78,  79,  80,  81,  82,  83,  84,  85,  86,  87,  88,  89,  90,\n",
       "        91,  92,  93,  94,  95,  96,  97,  98,  99, 100, 101, 102, 103,\n",
       "       104, 105, 106, 107, 108, 109, 110, 111, 112, 113, 114, 115, 116,\n",
       "       117, 118, 119, 120, 121, 122, 123, 124, 125, 126, 127, 128, 129,\n",
       "       130, 131, 132, 133, 134, 135, 136, 137, 138, 139, 140, 141, 142,\n",
       "       143, 144, 145, 146, 147, 148, 149, 150, 151, 152, 153, 154, 155,\n",
       "       156, 157, 158, 159, 160, 161, 162, 163, 164, 165, 166, 167, 168,\n",
       "       169, 170, 171, 172, 173, 174, 175, 176, 177, 178, 179, 180, 181,\n",
       "       182, 183, 184, 185, 186, 187, 188, 189, 190, 191, 192, 193, 194,\n",
       "       195, 196, 197, 198, 199])"
      ]
     },
     "execution_count": 342,
     "metadata": {},
     "output_type": "execute_result"
    }
   ],
   "source": [
    "x"
   ]
  },
  {
   "cell_type": "markdown",
   "metadata": {},
   "source": [
    "в res запишем массив вероятностей хотя бы одного выигрыша при числе игр от 1 до 200"
   ]
  },
  {
   "cell_type": "code",
   "execution_count": 262,
   "metadata": {},
   "outputs": [],
   "source": [
    "res = np.array(list(map(decorator_bernulli_at_least_k,x+1)))"
   ]
  },
  {
   "cell_type": "code",
   "execution_count": 344,
   "metadata": {},
   "outputs": [
    {
     "data": {
      "text/plain": [
       "array([0.02702703, 0.05332359, 0.07890944, 0.10380378, 0.1280253 ,\n",
       "       0.15159219, 0.17452213, 0.19683234, 0.21853957, 0.23966013])"
      ]
     },
     "execution_count": 344,
     "metadata": {},
     "output_type": "execute_result"
    }
   ],
   "source": [
    "res[:10]"
   ]
  },
  {
   "cell_type": "markdown",
   "metadata": {},
   "source": [
    "посмотрим, с какого момента у нас начинается \"верняк\" с вероятностью больше 95%. Cо 107 игры, получается"
   ]
  },
  {
   "cell_type": "code",
   "execution_count": 264,
   "metadata": {},
   "outputs": [
    {
     "data": {
      "text/plain": [
       "(array([108, 109, 110, 111, 112, 113, 114, 115, 116, 117, 118, 119, 120,\n",
       "        121, 122, 123, 124, 125, 126, 127, 128, 129, 130, 131, 132, 133,\n",
       "        134, 135, 136, 137, 138, 139, 140, 141, 142, 143, 144, 145, 146,\n",
       "        147, 148, 149, 150, 151, 152, 153, 154, 155, 156, 157, 158, 159,\n",
       "        160, 161, 162, 163, 164, 165, 166, 167, 168, 169, 170, 171, 172,\n",
       "        173, 174, 175, 176, 177, 178, 179, 180, 181, 182, 183, 184, 185,\n",
       "        186, 187, 188, 189, 190, 191, 192, 193, 194, 195, 196, 197, 198,\n",
       "        199]),)"
      ]
     },
     "execution_count": 264,
     "metadata": {},
     "output_type": "execute_result"
    }
   ],
   "source": [
    "np.where(res>=0.949)"
   ]
  },
  {
   "cell_type": "markdown",
   "metadata": {},
   "source": [
    "нарисуем полученные вероятности на графике, прямыми линиями отметим 37 игру и 95% вероятность"
   ]
  },
  {
   "cell_type": "code",
   "execution_count": 356,
   "metadata": {},
   "outputs": [
    {
     "data": {
      "image/png": "[encoded data removed]",
      "text/plain": [
       "<Figure size 1152x648 with 1 Axes>"
      ]
     },
     "metadata": {},
     "output_type": "display_data"
    }
   ],
   "source": [
    "sns.set_style(\"whitegrid\")\n",
    "plt.figure(figsize = (16,9))\n",
    "plt.plot(x+1,res)\n",
    "plt.hlines(0.95, 0,200, color = 'red', alpha = 0.33)\n",
    "plt.vlines(37, 0,1, color = 'green', alpha = 0.33)\n",
    "plt.xlabel('игры', size = 15)\n",
    "plt.ylabel('вероятность хотя бы одного успеха', size = 15)\n",
    "plt.savefig('success.png')"
   ]
  },
  {
   "cell_type": "markdown",
   "metadata": {},
   "source": [
    "Теперь перейдем к рассчету \"ставок\". double - массив двоек, которые возведем в степень x"
   ]
  },
  {
   "cell_type": "code",
   "execution_count": 369,
   "metadata": {},
   "outputs": [],
   "source": [
    "double = np.full(200,2, dtype='double') #double - потому что на больших степенях двойки numpy инт-ов уже не хватает"
   ]
  },
  {
   "cell_type": "code",
   "execution_count": 270,
   "metadata": {},
   "outputs": [],
   "source": [
    "alt = double ** x"
   ]
  },
  {
   "cell_type": "markdown",
   "metadata": {},
   "source": [
    "Создадим красивую табличку c результатами наших вычислений"
   ]
  },
  {
   "cell_type": "code",
   "execution_count": 370,
   "metadata": {},
   "outputs": [],
   "source": [
    "result = pd.DataFrame(np.vstack((x+1,alt,res)).T, columns = ['round', 'amount','win_proba'])"
   ]
  },
  {
   "cell_type": "code",
   "execution_count": 373,
   "metadata": {},
   "outputs": [],
   "source": [
    "result['sum'] = result['amount'].cumsum() #накопленная сумма"
   ]
  },
  {
   "cell_type": "code",
   "execution_count": 372,
   "metadata": {},
   "outputs": [],
   "source": [
    "pd.set_option('display.float_format', lambda x: '%.3f' % x) #чтобы цифры выглядели по-человечески\n",
    "#pd.reset_option('display.float_format') #чтобы вернуть все взад"
   ]
  },
  {
   "cell_type": "code",
   "execution_count": 368,
   "metadata": {},
   "outputs": [
    {
     "data": {
      "text/html": [
       "<div>\n",
       "<style scoped>\n",
       "    .dataframe tbody tr th:only-of-type {\n",
       "        vertical-align: middle;\n",
       "    }\n",
       "\n",
       "    .dataframe tbody tr th {\n",
       "        vertical-align: top;\n",
       "    }\n",
       "\n",
       "    .dataframe thead th {\n",
       "        text-align: right;\n",
       "    }\n",
       "</style>\n",
       "<table border=\"1\" class=\"dataframe\">\n",
       "  <thead>\n",
       "    <tr style=\"text-align: right;\">\n",
       "      <th></th>\n",
       "      <th>round</th>\n",
       "      <th>amount</th>\n",
       "      <th>win_proba</th>\n",
       "      <th>sum</th>\n",
       "    </tr>\n",
       "  </thead>\n",
       "  <tbody>\n",
       "    <tr>\n",
       "      <th>0</th>\n",
       "      <td>1.000</td>\n",
       "      <td>1.000</td>\n",
       "      <td>0.027</td>\n",
       "      <td>1.000</td>\n",
       "    </tr>\n",
       "    <tr>\n",
       "      <th>1</th>\n",
       "      <td>2.000</td>\n",
       "      <td>2.000</td>\n",
       "      <td>0.053</td>\n",
       "      <td>3.000</td>\n",
       "    </tr>\n",
       "    <tr>\n",
       "      <th>2</th>\n",
       "      <td>3.000</td>\n",
       "      <td>4.000</td>\n",
       "      <td>0.079</td>\n",
       "      <td>7.000</td>\n",
       "    </tr>\n",
       "    <tr>\n",
       "      <th>3</th>\n",
       "      <td>4.000</td>\n",
       "      <td>8.000</td>\n",
       "      <td>0.104</td>\n",
       "      <td>15.000</td>\n",
       "    </tr>\n",
       "    <tr>\n",
       "      <th>4</th>\n",
       "      <td>5.000</td>\n",
       "      <td>16.000</td>\n",
       "      <td>0.128</td>\n",
       "      <td>31.000</td>\n",
       "    </tr>\n",
       "    <tr>\n",
       "      <th>5</th>\n",
       "      <td>6.000</td>\n",
       "      <td>32.000</td>\n",
       "      <td>0.152</td>\n",
       "      <td>63.000</td>\n",
       "    </tr>\n",
       "    <tr>\n",
       "      <th>6</th>\n",
       "      <td>7.000</td>\n",
       "      <td>64.000</td>\n",
       "      <td>0.175</td>\n",
       "      <td>127.000</td>\n",
       "    </tr>\n",
       "    <tr>\n",
       "      <th>7</th>\n",
       "      <td>8.000</td>\n",
       "      <td>128.000</td>\n",
       "      <td>0.197</td>\n",
       "      <td>255.000</td>\n",
       "    </tr>\n",
       "    <tr>\n",
       "      <th>8</th>\n",
       "      <td>9.000</td>\n",
       "      <td>256.000</td>\n",
       "      <td>0.219</td>\n",
       "      <td>511.000</td>\n",
       "    </tr>\n",
       "    <tr>\n",
       "      <th>9</th>\n",
       "      <td>10.000</td>\n",
       "      <td>512.000</td>\n",
       "      <td>0.240</td>\n",
       "      <td>1023.000</td>\n",
       "    </tr>\n",
       "    <tr>\n",
       "      <th>10</th>\n",
       "      <td>11.000</td>\n",
       "      <td>1024.000</td>\n",
       "      <td>0.260</td>\n",
       "      <td>2047.000</td>\n",
       "    </tr>\n",
       "    <tr>\n",
       "      <th>11</th>\n",
       "      <td>12.000</td>\n",
       "      <td>2048.000</td>\n",
       "      <td>0.280</td>\n",
       "      <td>4095.000</td>\n",
       "    </tr>\n",
       "    <tr>\n",
       "      <th>12</th>\n",
       "      <td>13.000</td>\n",
       "      <td>4096.000</td>\n",
       "      <td>0.300</td>\n",
       "      <td>8191.000</td>\n",
       "    </tr>\n",
       "    <tr>\n",
       "      <th>13</th>\n",
       "      <td>14.000</td>\n",
       "      <td>8192.000</td>\n",
       "      <td>0.319</td>\n",
       "      <td>16383.000</td>\n",
       "    </tr>\n",
       "    <tr>\n",
       "      <th>14</th>\n",
       "      <td>15.000</td>\n",
       "      <td>16384.000</td>\n",
       "      <td>0.337</td>\n",
       "      <td>32767.000</td>\n",
       "    </tr>\n",
       "    <tr>\n",
       "      <th>15</th>\n",
       "      <td>16.000</td>\n",
       "      <td>32768.000</td>\n",
       "      <td>0.355</td>\n",
       "      <td>65535.000</td>\n",
       "    </tr>\n",
       "    <tr>\n",
       "      <th>16</th>\n",
       "      <td>17.000</td>\n",
       "      <td>65536.000</td>\n",
       "      <td>0.372</td>\n",
       "      <td>131071.000</td>\n",
       "    </tr>\n",
       "    <tr>\n",
       "      <th>17</th>\n",
       "      <td>18.000</td>\n",
       "      <td>131072.000</td>\n",
       "      <td>0.389</td>\n",
       "      <td>262143.000</td>\n",
       "    </tr>\n",
       "    <tr>\n",
       "      <th>18</th>\n",
       "      <td>19.000</td>\n",
       "      <td>262144.000</td>\n",
       "      <td>0.406</td>\n",
       "      <td>524287.000</td>\n",
       "    </tr>\n",
       "    <tr>\n",
       "      <th>19</th>\n",
       "      <td>20.000</td>\n",
       "      <td>524288.000</td>\n",
       "      <td>0.422</td>\n",
       "      <td>1048575.000</td>\n",
       "    </tr>\n",
       "    <tr>\n",
       "      <th>20</th>\n",
       "      <td>21.000</td>\n",
       "      <td>1048576.000</td>\n",
       "      <td>0.438</td>\n",
       "      <td>2097151.000</td>\n",
       "    </tr>\n",
       "    <tr>\n",
       "      <th>21</th>\n",
       "      <td>22.000</td>\n",
       "      <td>2097152.000</td>\n",
       "      <td>0.453</td>\n",
       "      <td>4194303.000</td>\n",
       "    </tr>\n",
       "    <tr>\n",
       "      <th>22</th>\n",
       "      <td>23.000</td>\n",
       "      <td>4194304.000</td>\n",
       "      <td>0.468</td>\n",
       "      <td>8388607.000</td>\n",
       "    </tr>\n",
       "    <tr>\n",
       "      <th>23</th>\n",
       "      <td>24.000</td>\n",
       "      <td>8388608.000</td>\n",
       "      <td>0.482</td>\n",
       "      <td>16777215.000</td>\n",
       "    </tr>\n",
       "    <tr>\n",
       "      <th>24</th>\n",
       "      <td>25.000</td>\n",
       "      <td>16777216.000</td>\n",
       "      <td>0.496</td>\n",
       "      <td>33554431.000</td>\n",
       "    </tr>\n",
       "    <tr>\n",
       "      <th>25</th>\n",
       "      <td>26.000</td>\n",
       "      <td>33554432.000</td>\n",
       "      <td>0.510</td>\n",
       "      <td>67108863.000</td>\n",
       "    </tr>\n",
       "    <tr>\n",
       "      <th>26</th>\n",
       "      <td>27.000</td>\n",
       "      <td>67108864.000</td>\n",
       "      <td>0.523</td>\n",
       "      <td>134217727.000</td>\n",
       "    </tr>\n",
       "    <tr>\n",
       "      <th>27</th>\n",
       "      <td>28.000</td>\n",
       "      <td>134217728.000</td>\n",
       "      <td>0.536</td>\n",
       "      <td>268435455.000</td>\n",
       "    </tr>\n",
       "    <tr>\n",
       "      <th>28</th>\n",
       "      <td>29.000</td>\n",
       "      <td>268435456.000</td>\n",
       "      <td>0.548</td>\n",
       "      <td>536870911.000</td>\n",
       "    </tr>\n",
       "    <tr>\n",
       "      <th>29</th>\n",
       "      <td>30.000</td>\n",
       "      <td>536870912.000</td>\n",
       "      <td>0.560</td>\n",
       "      <td>1073741823.000</td>\n",
       "    </tr>\n",
       "    <tr>\n",
       "      <th>30</th>\n",
       "      <td>31.000</td>\n",
       "      <td>1073741824.000</td>\n",
       "      <td>0.572</td>\n",
       "      <td>2147483647.000</td>\n",
       "    </tr>\n",
       "    <tr>\n",
       "      <th>31</th>\n",
       "      <td>32.000</td>\n",
       "      <td>2147483648.000</td>\n",
       "      <td>0.584</td>\n",
       "      <td>4294967295.000</td>\n",
       "    </tr>\n",
       "    <tr>\n",
       "      <th>32</th>\n",
       "      <td>33.000</td>\n",
       "      <td>4294967296.000</td>\n",
       "      <td>0.595</td>\n",
       "      <td>8589934591.000</td>\n",
       "    </tr>\n",
       "    <tr>\n",
       "      <th>33</th>\n",
       "      <td>34.000</td>\n",
       "      <td>8589934592.000</td>\n",
       "      <td>0.606</td>\n",
       "      <td>17179869183.000</td>\n",
       "    </tr>\n",
       "    <tr>\n",
       "      <th>34</th>\n",
       "      <td>35.000</td>\n",
       "      <td>17179869184.000</td>\n",
       "      <td>0.617</td>\n",
       "      <td>34359738367.000</td>\n",
       "    </tr>\n",
       "    <tr>\n",
       "      <th>35</th>\n",
       "      <td>36.000</td>\n",
       "      <td>34359738368.000</td>\n",
       "      <td>0.627</td>\n",
       "      <td>68719476735.000</td>\n",
       "    </tr>\n",
       "    <tr>\n",
       "      <th>36</th>\n",
       "      <td>37.000</td>\n",
       "      <td>68719476736.000</td>\n",
       "      <td>0.637</td>\n",
       "      <td>137438953471.000</td>\n",
       "    </tr>\n",
       "    <tr>\n",
       "      <th>37</th>\n",
       "      <td>38.000</td>\n",
       "      <td>137438953472.000</td>\n",
       "      <td>0.647</td>\n",
       "      <td>274877906943.000</td>\n",
       "    </tr>\n",
       "    <tr>\n",
       "      <th>38</th>\n",
       "      <td>39.000</td>\n",
       "      <td>274877906944.000</td>\n",
       "      <td>0.656</td>\n",
       "      <td>549755813887.000</td>\n",
       "    </tr>\n",
       "    <tr>\n",
       "      <th>39</th>\n",
       "      <td>40.000</td>\n",
       "      <td>549755813888.000</td>\n",
       "      <td>0.666</td>\n",
       "      <td>1099511627775.000</td>\n",
       "    </tr>\n",
       "  </tbody>\n",
       "</table>\n",
       "</div>"
      ],
      "text/plain": [
       "    round           amount  win_proba               sum\n",
       "0   1.000            1.000      0.027             1.000\n",
       "1   2.000            2.000      0.053             3.000\n",
       "2   3.000            4.000      0.079             7.000\n",
       "3   4.000            8.000      0.104            15.000\n",
       "4   5.000           16.000      0.128            31.000\n",
       "5   6.000           32.000      0.152            63.000\n",
       "6   7.000           64.000      0.175           127.000\n",
       "7   8.000          128.000      0.197           255.000\n",
       "8   9.000          256.000      0.219           511.000\n",
       "9  10.000          512.000      0.240          1023.000\n",
       "10 11.000         1024.000      0.260          2047.000\n",
       "11 12.000         2048.000      0.280          4095.000\n",
       "12 13.000         4096.000      0.300          8191.000\n",
       "13 14.000         8192.000      0.319         16383.000\n",
       "14 15.000        16384.000      0.337         32767.000\n",
       "15 16.000        32768.000      0.355         65535.000\n",
       "16 17.000        65536.000      0.372        131071.000\n",
       "17 18.000       131072.000      0.389        262143.000\n",
       "18 19.000       262144.000      0.406        524287.000\n",
       "19 20.000       524288.000      0.422       1048575.000\n",
       "20 21.000      1048576.000      0.438       2097151.000\n",
       "21 22.000      2097152.000      0.453       4194303.000\n",
       "22 23.000      4194304.000      0.468       8388607.000\n",
       "23 24.000      8388608.000      0.482      16777215.000\n",
       "24 25.000     16777216.000      0.496      33554431.000\n",
       "25 26.000     33554432.000      0.510      67108863.000\n",
       "26 27.000     67108864.000      0.523     134217727.000\n",
       "27 28.000    134217728.000      0.536     268435455.000\n",
       "28 29.000    268435456.000      0.548     536870911.000\n",
       "29 30.000    536870912.000      0.560    1073741823.000\n",
       "30 31.000   1073741824.000      0.572    2147483647.000\n",
       "31 32.000   2147483648.000      0.584    4294967295.000\n",
       "32 33.000   4294967296.000      0.595    8589934591.000\n",
       "33 34.000   8589934592.000      0.606   17179869183.000\n",
       "34 35.000  17179869184.000      0.617   34359738367.000\n",
       "35 36.000  34359738368.000      0.627   68719476735.000\n",
       "36 37.000  68719476736.000      0.637  137438953471.000\n",
       "37 38.000 137438953472.000      0.647  274877906943.000\n",
       "38 39.000 274877906944.000      0.656  549755813887.000\n",
       "39 40.000 549755813888.000      0.666 1099511627775.000"
      ]
     },
     "execution_count": 368,
     "metadata": {},
     "output_type": "execute_result"
    }
   ],
   "source": [
    "result.head(n=40)"
   ]
  },
  {
   "cell_type": "markdown",
   "metadata": {},
   "source": [
    "Напоследок посмотрим, что там в 107 ячейке, после которой уже 95% и выше успех"
   ]
  },
  {
   "cell_type": "code",
   "execution_count": 377,
   "metadata": {},
   "outputs": [
    {
     "data": {
      "text/plain": [
       "round                                     108.000\n",
       "amount      162259276829213363391578010288128.000\n",
       "win_proba                                   0.948\n",
       "sum         324518553658426726783156020576256.000\n",
       "Name: 107, dtype: float64"
      ]
     },
     "execution_count": 377,
     "metadata": {},
     "output_type": "execute_result"
    }
   ],
   "source": [
    "result.iloc[107,]"
   ]
  }
 ],
 "metadata": {
  "kernelspec": {
   "display_name": "Python 3",
   "language": "python",
   "name": "python3"
  },
  "language_info": {
   "codemirror_mode": {
    "name": "ipython",
    "version": 3
   },
   "file_extension": ".py",
   "mimetype": "text/x-python",
   "name": "python",
   "nbconvert_exporter": "python",
   "pygments_lexer": "ipython3",
   "version": "3.7.6"
  }
 },
 "nbformat": 4,
 "nbformat_minor": 4
}
